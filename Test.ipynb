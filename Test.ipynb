{
 "cells": [
  {
   "cell_type": "code",
   "execution_count": 1,
   "metadata": {},
   "outputs": [],
   "source": [
    "import gym \n",
    "import numpy as np\n",
    "from keras import models\n",
    "import os\n",
    "from gym import wrappers\n",
    "env = gym.make('MountainCar-v0')"
   ]
  },
  {
   "cell_type": "code",
   "execution_count": 2,
   "metadata": {},
   "outputs": [],
   "source": [
    "model = models.load_model('TrainedModelMountainCar.h5')\n",
    "\n",
    "#model1 = model1.load_weights('TrainedModelMountainCar_weights')"
   ]
  },
  {
   "cell_type": "code",
   "execution_count": 6,
   "metadata": {},
   "outputs": [
    {
     "name": "stdout",
     "output_type": "stream",
     "text": [
      "============================================================\n",
      "Episode 1 completed after 153 time_step with a reward -153.0\n",
      "============================================================\n",
      "Episode 2 completed after 188 time_step with a reward -188.0\n"
     ]
    }
   ],
   "source": [
    "#Testing the model on the environment\n",
    "state_size = env.observation_space.shape[0]\n",
    "#env = wrappers.Monitor(env, os.path.join(os.getcwd(), \"Videos\"), force =True)\n",
    "for e in range(2):\n",
    "    current_state = env.reset().reshape(1,state_size)\n",
    "    print('============================================================')\n",
    "    reward_sum= 0\n",
    "    for t in range(200):\n",
    "        env.render()\n",
    "        action = np.argmax(model.predict(current_state)[0])\n",
    "        new_state,reward,done,_ = env.step(action)\n",
    "        reward_sum += reward\n",
    "        new_state = new_state.reshape(1,state_size)\n",
    "        current_state = new_state\n",
    "        if done:\n",
    "            print(\"Episode {} completed after {} time_step with a reward {}\".format(e+1, t+1, reward_sum))\n",
    "            break          \n",
    "env.close()"
   ]
  },
  {
   "cell_type": "code",
   "execution_count": null,
   "metadata": {},
   "outputs": [],
   "source": []
  }
 ],
 "metadata": {
  "kernelspec": {
   "display_name": "Python 3",
   "language": "python",
   "name": "python3"
  },
  "language_info": {
   "codemirror_mode": {
    "name": "ipython",
    "version": 3
   },
   "file_extension": ".py",
   "mimetype": "text/x-python",
   "name": "python",
   "nbconvert_exporter": "python",
   "pygments_lexer": "ipython3",
   "version": "3.7.6"
  }
 },
 "nbformat": 4,
 "nbformat_minor": 4
}
